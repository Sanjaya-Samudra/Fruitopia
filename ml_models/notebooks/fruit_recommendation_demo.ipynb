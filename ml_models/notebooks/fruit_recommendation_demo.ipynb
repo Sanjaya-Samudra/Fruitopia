{
 "cells": [
  {
   "cell_type": "markdown",
   "id": "c45f5417",
   "metadata": {},
   "source": [
    "# Fruit Recommendation Demo\n",
    "This notebook demonstrates a simple ML pipeline for recommending fruits based on disease."
   ]
  },
  {
   "cell_type": "code",
   "execution_count": null,
   "id": "b7b716b8",
   "metadata": {},
   "outputs": [],
   "source": [
    "import pandas as pd\n",
    "from sklearn.ensemble import RandomForestClassifier\n",
    "from sklearn.model_selection import train_test_split\n",
    "from sklearn.metrics import accuracy_score\n",
    "import joblib\n",
    "\n",
    "data = pd.DataFrame({\n",
    "    'fruit': ['apple', 'banana', 'blueberry', 'avocado', 'kiwi'],\n",
    "    'disease': ['diabetes', 'heart', 'memory', 'heart', 'immune'],\n",
    "    'recommended': [1, 1, 1, 1, 1]\n",
    "})\n",
    "\n",
    "X = pd.get_dummies(data[['fruit', 'disease']])\n",
    "y = data['recommended']\n",
    "\n",
    "X_train, X_test, y_train, y_test = train_test_split(X, y, test_size=0.2, random_state=42)\n",
    "model = RandomForestClassifier(n_estimators=100, random_state=42)\n",
    "model.fit(X_train, y_train)\n",
    "y_pred = model.predict(X_test)\n",
    "print('Accuracy:', accuracy_score(y_test, y_pred))\n",
    "joblib.dump(model, '../saved_models/fruit_recommendation.pkl')"
   ]
  }
 ],
 "metadata": {
  "language_info": {
   "name": "python"
  }
 },
 "nbformat": 4,
 "nbformat_minor": 5
}
